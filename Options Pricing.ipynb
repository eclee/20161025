{
 "cells": [
  {
   "cell_type": "code",
   "execution_count": 3,
   "metadata": {
    "collapsed": true
   },
   "outputs": [],
   "source": [
    "# 選擇權參數\n",
    "\n",
    "S0 = 100\n",
    "K = 105\n",
    "T = 1\n",
    "r = 0.05\n",
    "Sigma = 0.2"
   ]
  },
  {
   "cell_type": "markdown",
   "metadata": {},
   "source": [
    "# Options Pricing via Monte Carlo Simulation\n",
    "\n",
    "### Geometric Brownian Motion (G.B.M)\n",
    "$$\n",
    "S_t = S_0\\exp\\left( \\left(\\mu - \\frac{\\sigma^2}{2} \\right)t + \\sigma W_t\\right)\n",
    "$$\n",
    "\n",
    "https://en.wikipedia.org/wiki/Geometric_Brownian_motion"
   ]
  },
  {
   "cell_type": "code",
   "execution_count": 27,
   "metadata": {
    "collapsed": false
   },
   "outputs": [
    {
     "data": {
      "text/plain": [
       "8.0088202343802521"
      ]
     },
     "execution_count": 27,
     "metadata": {},
     "output_type": "execute_result"
    }
   ],
   "source": [
    "import numpy as np\n",
    "\n",
    "N = 100000    # simulation trials\n",
    "\n",
    "z = np.random.standard_normal(N)\n",
    "ST = S0 * np.exp((r - 0.5 * Sigma ** 2) * T + Sigma * np.sqrt(T) * z)\n",
    "CT = np.maximum(ST - K, 0)\n",
    "C0 = np.exp(-r * T) * np.sum(CT) / N\n",
    "\n",
    "C0"
   ]
  },
  {
   "cell_type": "code",
   "execution_count": 21,
   "metadata": {
    "collapsed": false
   },
   "outputs": [
    {
     "name": "stdout",
     "output_type": "stream",
     "text": [
      "The present value of the European call option: 8.083\n"
     ]
    }
   ],
   "source": [
    "print('The present value of the European call option: %5.3f' % C0)"
   ]
  },
  {
   "cell_type": "code",
   "execution_count": 22,
   "metadata": {
    "collapsed": true
   },
   "outputs": [],
   "source": [
    "def Call_Value_MSC(S0, K, T, r, Sigma, N):\n",
    "    '''\n",
    "    Parameters:\n",
    "    ===========\n",
    "    S0: initial stock/index level\n",
    "    K: stike price\n",
    "    T: maturity date (in year factions)\n",
    "    r: constant risk-free short rate (in year factions)\n",
    "    Sigma: volatility factor in diffusion term (in year factions)\n",
    "    N: simulation trials\n",
    "    \n",
    "    Returns:\n",
    "    ========\n",
    "    value: present value of the European call option\n",
    "    '''\n",
    "    from numpy import random, sqrt, exp, maximum, sum\n",
    "    \n",
    "    z = random.standard_normal(N)\n",
    "    ST = S0 * exp((r - 0.5 * Sigma ** 2) * T + Sigma * sqrt(T) * z)\n",
    "    CT = maximum(ST - K, 0)\n",
    "    C0 = exp(-r * T) * sum(CT) / N\n",
    "    return C0"
   ]
  },
  {
   "cell_type": "code",
   "execution_count": 25,
   "metadata": {
    "collapsed": false
   },
   "outputs": [
    {
     "data": {
      "text/plain": [
       "7.9597202836333416"
      ]
     },
     "execution_count": 25,
     "metadata": {},
     "output_type": "execute_result"
    }
   ],
   "source": [
    "Call_Value = Call_Value_MSC(S0, K, T, r, Sigma, N)\n",
    "Call_Value"
   ]
  },
  {
   "cell_type": "markdown",
   "metadata": {},
   "source": [
    "# Options Pricing via BSM Model\n",
    "\n",
    "## Call Options\n",
    "$$\n",
    "\\begin{align}\n",
    "  C(S_t, t) &= N(d_1)S_t - N(d_2) Ke^{-r(T - t)} \\\\\n",
    "     d_1 &= \\frac{1}{\\sigma\\sqrt{T - t}}\\left[\\ln\\left(\\frac{S_t}{K}\\right) + \\left(r + \\frac{\\sigma^2}{2}\\right)(T - t)\\right] \\\\\n",
    "     d_2 &= d_1 - \\sigma\\sqrt{T - t} \\\\\n",
    "\\end{align}\n",
    "$$\n",
    "\n",
    "## Put Options\n",
    "$$\n",
    "\\begin{align}\n",
    "  P(S_t, t) &= Ke^{-r(T - t)} - S_t + C(S_t, t) \\\\\n",
    "          &= N(-d_2) Ke^{-r(T - t)} - N(-d_1) S_t\n",
    "\\end{align}\\\n",
    "$$\n",
    "\n",
    "https://en.wikipedia.org/wiki/Black%E2%80%93Scholes_model"
   ]
  },
  {
   "cell_type": "code",
   "execution_count": 8,
   "metadata": {
    "collapsed": false
   },
   "outputs": [],
   "source": [
    "def Call_Value_BSM(S0, K, T, r, Sigma):\n",
    "    '''\n",
    "    Parameters:\n",
    "    ===========\n",
    "    S0: initial stock/index level\n",
    "    K: stike price\n",
    "    T: maturity date (in year factions)\n",
    "    r: constant risk-free short rate (in year factions)\n",
    "    Sigma: volatility factor in diffusion term (in year factions)\n",
    "    \n",
    "    Returns:\n",
    "    ========\n",
    "    value: present value of the European call option\n",
    "    '''\n",
    "    from math import log, sqrt, exp\n",
    "    from scipy import stats\n",
    "    \n",
    "    d1 = (log(S0 / K) + (r + 0.5 * Sigma ** 2) * T) / (Sigma * sqrt(T))\n",
    "    d2 = (log(S0 / K) + (r - 0.5 * Sigma ** 2) * T) / (Sigma * sqrt(T))\n",
    "    value = (S0 * stats.norm.cdf(d1, 0, 1)) - K * exp(-r * T) * stats.norm.cdf(d2, 0, 1)\n",
    "    return value"
   ]
  },
  {
   "cell_type": "code",
   "execution_count": 14,
   "metadata": {
    "collapsed": false
   },
   "outputs": [
    {
     "data": {
      "text/plain": [
       "8.0213522351431763"
      ]
     },
     "execution_count": 14,
     "metadata": {},
     "output_type": "execute_result"
    }
   ],
   "source": [
    "Call_Value = Call_Value_BSM(S0, K, T, r, Sigma)\n",
    "Call_Value"
   ]
  },
  {
   "cell_type": "code",
   "execution_count": 15,
   "metadata": {
    "collapsed": false
   },
   "outputs": [
    {
     "name": "stdout",
     "output_type": "stream",
     "text": [
      "The present value of the European call option: 8.021\n"
     ]
    }
   ],
   "source": [
    "print('The present value of the European call option: %5.3f' % Call_Value)"
   ]
  },
  {
   "cell_type": "code",
   "execution_count": 4,
   "metadata": {
    "collapsed": true
   },
   "outputs": [],
   "source": [
    "# function call function\n",
    "def BSM_Call(S0, K, T, r, Sigma):\n",
    "    '''\n",
    "    Parameters:\n",
    "    ===========\n",
    "    S0: initial stock/index level\n",
    "    K: stike price\n",
    "    T: maturity date (in year factions)\n",
    "    r: constant risk-free short rate (in year factions)\n",
    "    Sigma: volatility factor in diffusion term (in year factions)\n",
    "    \n",
    "    Returns:\n",
    "    ========\n",
    "    value: present value of the European call option\n",
    "    '''\n",
    "    from math import log, sqrt, exp\n",
    "    from scipy import stats\n",
    "    \n",
    "    d1 = BSM_d1(S0, K, T, r, Sigma)\n",
    "    d2 = BSM_d2(S0, K, T, r, Sigma)\n",
    "    value = (S0 * stats.norm.cdf(d1, 0, 1)) - K * exp(-r * T) * stats.norm.cdf(d2, 0, 1)\n",
    "    return value\n",
    "\n",
    "def BSM_d1(S0, K, T, r, Sigma):\n",
    "    '''\n",
    "    Parameters:\n",
    "    ===========\n",
    "    S0: initial stock/index level\n",
    "    K: stike price\n",
    "    T: maturity date (in year factions)\n",
    "    r: constant risk-free short rate (in year factions)\n",
    "    Sigma: volatility factor in diffusion term (in year factions)\n",
    "    \n",
    "    Returns:\n",
    "    ========\n",
    "    value: present value of the European call option\n",
    "    '''\n",
    "    from math import log, sqrt, exp\n",
    "    return (log(S0 / K) + (r + 0.5 * Sigma ** 2) * T) / (Sigma * sqrt(T))\n",
    "\n",
    "def BSM_d2(S0, K, T, r, Sigma):\n",
    "    '''\n",
    "    Parameters:\n",
    "    ===========\n",
    "    S0: initial stock/index level\n",
    "    K: stike price\n",
    "    T: maturity date (in year factions)\n",
    "    r: constant risk-free short rate (in year factions)\n",
    "    Sigma: volatility factor in diffusion term (in year factions)\n",
    "    \n",
    "    Returns:\n",
    "    ========\n",
    "    value: present value of the European call option\n",
    "    '''\n",
    "    from math import log, sqrt, exp\n",
    "    return (log(S0 / K) + (r - 0.5 * Sigma ** 2) * T) / (Sigma * sqrt(T))"
   ]
  },
  {
   "cell_type": "code",
   "execution_count": 5,
   "metadata": {
    "collapsed": false
   },
   "outputs": [
    {
     "data": {
      "text/plain": [
       "8.0213522351431763"
      ]
     },
     "execution_count": 5,
     "metadata": {},
     "output_type": "execute_result"
    }
   ],
   "source": [
    "BSM_Call(S0, K, T, r, Sigma)"
   ]
  },
  {
   "cell_type": "markdown",
   "metadata": {
    "collapsed": true
   },
   "source": [
    "# OOP 寫法 (Q：這樣寫好？)\n",
    "用 OOP 語法改寫上面實作的內容"
   ]
  },
  {
   "cell_type": "code",
   "execution_count": 26,
   "metadata": {
    "collapsed": false
   },
   "outputs": [],
   "source": [
    "class OptionsPricing:\n",
    "    # 方法：初始化屬性\n",
    "    def __init__(self, S0, K, T, r, Sigma, div = 0):\n",
    "        self.S0 = S0  \n",
    "        self.K = K \n",
    "        self.T = T  \n",
    "        self.r = r\n",
    "        self.Sigma = Sigma\n",
    "        self.div = div\n",
    "        \n",
    "    # 方法：Closed-form Solution (CF)\n",
    "    def Call_Value_CF(self):\n",
    "        from math import log, sqrt, exp      \n",
    "        from scipy import stats\n",
    "        d1 = (log(self.S0 / self.K) + (self.r + 0.5 * self.Sigma ** 2) * self.T) / (self.Sigma * sqrt(self.T))\n",
    "        d2 = (log(self.S0 / self.K) + (self.r - 0.5 * self.Sigma ** 2) * self.T) / (self.Sigma * sqrt(self.T))\n",
    "        C0 = (self.S0 * stats.norm.cdf(d1, 0, 1)) - K * exp(-self.r * self.T) * stats.norm.cdf(d2, 0, 1)\n",
    "        #return C0\n",
    "        ValMethod = 'CF'\n",
    "        self.display(ValMethod, C0)\n",
    "        \n",
    "    # 方法：Monte Carlo Simulation (MSC)\n",
    "    def Call_Value_MSC(self, N = 10000):\n",
    "        from numpy import random, sqrt, exp, maximum, sum\n",
    "        z = random.standard_normal(N)\n",
    "        ST = self.S0 * exp((self.r - 0.5 * self.Sigma ** 2) * T + self.Sigma * sqrt(self.T) * z)\n",
    "        CT = maximum(ST - self.K, 0)\n",
    "        C0 = exp(-self.r * self.T) * sum(CT) / N\n",
    "        #return C0\n",
    "        ValMethod = 'MSC' + ' [N =' + str(N) + ']'\n",
    "        self.display(ValMethod, C0)\n",
    "            \n",
    "    # 方法：顯示計算結果\n",
    "    def display(self, ValMethod, C0):\n",
    "        #print('Call (' + ValMethod + '): ' + str(C0))\n",
    "        print('Call ({0}): {1}'.format(ValMethod, str(C0)))   # 新的螢幕輸出寫法 .format()"
   ]
  },
  {
   "cell_type": "code",
   "execution_count": 28,
   "metadata": {
    "collapsed": false
   },
   "outputs": [
    {
     "name": "stdout",
     "output_type": "stream",
     "text": [
      "Call (CF): 8.02135223514\n",
      "Call (MSC [N =10000]): 8.19034191744\n",
      "Call (MSC [N =100000]): 7.98851252225\n"
     ]
    }
   ],
   "source": [
    "S0 = 100\n",
    "K = 105\n",
    "T = 1\n",
    "r = 0.05\n",
    "Sigma = 0.2\n",
    "N = 100000\n",
    "\n",
    "BS = OptionsPricing(S0, K, T, r, Sigma)\n",
    "BS.Call_Value_CF()\n",
    "BS.Call_Value_MSC()\n",
    "BS.Call_Value_MSC(100000)"
   ]
  },
  {
   "cell_type": "code",
   "execution_count": 29,
   "metadata": {
    "collapsed": false
   },
   "outputs": [],
   "source": [
    "class OptionsPricing:\n",
    "    # 方法：初始化屬性\n",
    "    def __init__(self, S0, K, T, r, Sigma, Type = 'Call', Div = 0):\n",
    "        self.S0 = S0  \n",
    "        self.K = K \n",
    "        self.T = T  \n",
    "        self.r = r\n",
    "        self.Sigma = Sigma\n",
    "        self.Type = Type\n",
    "        self.Div = Div\n",
    "        \n",
    "    def calD1(self):\n",
    "        from math import log, sqrt, exp\n",
    "        from scipy import stats \n",
    "        res = (log(self.S0 / self.K) + (self.r + 0.5 * self.Sigma ** 2) * self.T) / (self.Sigma * sqrt(self.T))\n",
    "        return res\n",
    "\n",
    "    def calD2(self):\n",
    "        from math import log, sqrt, exp\n",
    "        from scipy import stats\n",
    "        res = (log(self.S0 / self.K) + (self.r - 0.5 * self.Sigma ** 2) * self.T) / (self.Sigma * sqrt(self.T))\n",
    "        #self.display(val)\n",
    "        return res\n",
    "\n",
    "    # 方法：Closed-form Solution (CF)\n",
    "    def calCF(self):\n",
    "        from math import log, sqrt, exp\n",
    "        from scipy import stats\n",
    "        D1 = self.calD1()\n",
    "        D2 = self.calD2()\n",
    "        if self.Type == 'Call':   # Call\n",
    "            res = (self.S0 * stats.norm.cdf(D1, 0, 1)) - self.K * exp(-self.r * self.T) * stats.norm.cdf(D2, 0, 1)\n",
    "        elif self.Type == 'Put':  # Put\n",
    "            res = self.K * exp(-self.r * self.T) * stats.norm.cdf(-D2, 0, 1) - (self.S0 * stats.norm.cdf(-D1, 0, 1))\n",
    "        #self.display(P0)\n",
    "        return res\n",
    "        \n",
    "    # 方法：Monte Carlo Simulation (MSC)\n",
    "    def calMSC(self, N = 10000):\n",
    "        from numpy import random, sqrt, exp, maximum, sum\n",
    "        z = random.standard_normal(N)\n",
    "        ST = self.S0 * exp((self.r - 0.5 * self.Sigma ** 2) * self.T + self.Sigma * sqrt(self.T) * z)\n",
    "        if self.Type == 'Call':   # Call\n",
    "            PT = maximum(ST - self.K, 0)\n",
    "        elif self.Type == 'Put':  # Put\n",
    "            PT = maximum(self.K - ST, 0)\n",
    "        res = exp(-self.r * self.T) * sum(PT) / N\n",
    "        #self.display(P0)\n",
    "        return res\n",
    "            \n",
    "    # 方法：顯示計算結果\n",
    "    def display(self, res):\n",
    "        # print(self.Type + ': ' + str(res))\n",
    "        print('{Type}: {Res}'.format(Type=self.Type, Res=str(res)))    # 新型態的輸出寫法 .format()"
   ]
  },
  {
   "cell_type": "code",
   "execution_count": 30,
   "metadata": {
    "collapsed": false
   },
   "outputs": [
    {
     "data": {
      "text/plain": [
       "0.10604917915283975"
      ]
     },
     "execution_count": 30,
     "metadata": {},
     "output_type": "execute_result"
    }
   ],
   "source": [
    "Type = 'Put'\n",
    "BS = OptionsPricing(S0, K, T, r, Sigma, Type)\n",
    "BS.calD1()"
   ]
  },
  {
   "cell_type": "code",
   "execution_count": 31,
   "metadata": {
    "collapsed": false
   },
   "outputs": [
    {
     "data": {
      "text/plain": [
       "-0.09395082084716028"
      ]
     },
     "execution_count": 31,
     "metadata": {},
     "output_type": "execute_result"
    }
   ],
   "source": [
    "BS.calD2()"
   ]
  },
  {
   "cell_type": "code",
   "execution_count": 32,
   "metadata": {
    "collapsed": false
   },
   "outputs": [
    {
     "data": {
      "text/plain": [
       "7.9004418077181455"
      ]
     },
     "execution_count": 32,
     "metadata": {},
     "output_type": "execute_result"
    }
   ],
   "source": [
    "BS.calCF()"
   ]
  },
  {
   "cell_type": "code",
   "execution_count": 33,
   "metadata": {
    "collapsed": false
   },
   "outputs": [
    {
     "name": "stdout",
     "output_type": "stream",
     "text": [
      "Put: 8.00924362667\n"
     ]
    }
   ],
   "source": [
    "res = BS.calMSC()\n",
    "BS.display(res)"
   ]
  },
  {
   "cell_type": "code",
   "execution_count": null,
   "metadata": {
    "collapsed": true
   },
   "outputs": [],
   "source": []
  },
  {
   "cell_type": "code",
   "execution_count": null,
   "metadata": {
    "collapsed": true
   },
   "outputs": [],
   "source": []
  }
 ],
 "metadata": {
  "anaconda-cloud": {},
  "kernelspec": {
   "display_name": "Python [default]",
   "language": "python",
   "name": "python3"
  },
  "language_info": {
   "codemirror_mode": {
    "name": "ipython",
    "version": 3
   },
   "file_extension": ".py",
   "mimetype": "text/x-python",
   "name": "python",
   "nbconvert_exporter": "python",
   "pygments_lexer": "ipython3",
   "version": "3.5.2"
  }
 },
 "nbformat": 4,
 "nbformat_minor": 0
}
